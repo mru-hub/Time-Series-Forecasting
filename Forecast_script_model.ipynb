{
 "cells": [
  {
   "cell_type": "code",
   "execution_count": 1,
   "id": "e2be8d61",
   "metadata": {},
   "outputs": [],
   "source": [
    "import pandas as pd\n",
    "import numpy as np\n",
    "import seaborn as sns\n",
    "import matplotlib.pyplot as plt\n",
    "%matplotlib inline\n",
    "\n",
    "\n",
    "import re\n",
    "import operator\n",
    "import itertools\n",
    "\n",
    "\n",
    "# ignore the warnings\n",
    "import warnings\n",
    "warnings.filterwarnings('ignore')\n",
    "\n",
    "import statsmodels.api as sm\n",
    "from statsmodels.tsa.arima_model import ARIMA\n",
    "from pylab import rcParams\n",
    "from statsmodels.tsa.stattools import adfuller\n",
    "from statsmodels.graphics.tsaplots import plot_acf, plot_pacf\n",
    "\n",
    "\n",
    "import xgboost as xgb\n",
    "from sklearn.metrics import mean_squared_error\n"
   ]
  },
  {
   "cell_type": "raw",
   "id": "d8425f51",
   "metadata": {},
   "source": [
    "Ask: Predict the next 12 months of overall sales using time-series analysis. Address forecast error, fit, and accuracy of the model\n",
    "-->Create dashboard/visualizations of key metrics such as sales revenue, sales units, projections, average selling price, conversion rate etc.  Bonus point: if you can add a metric filter to the dashboard.\n"
   ]
  },
  {
   "cell_type": "code",
   "execution_count": 2,
   "id": "9bb6187b",
   "metadata": {},
   "outputs": [],
   "source": [
    "#Loading the data \n",
    "data=pd.read_excel('Sample_Sales_Data.xlsx')"
   ]
  },
  {
   "cell_type": "code",
   "execution_count": 4,
   "id": "9aa25dc0",
   "metadata": {},
   "outputs": [
    {
     "data": {
      "text/plain": [
       "(16136, 15)"
      ]
     },
     "execution_count": 4,
     "metadata": {},
     "output_type": "execute_result"
    }
   ],
   "source": [
    "data.shape"
   ]
  },
  {
   "cell_type": "code",
   "execution_count": 5,
   "id": "2a044bfe",
   "metadata": {},
   "outputs": [
    {
     "name": "stdout",
     "output_type": "stream",
     "text": [
      "<class 'pandas.core.frame.DataFrame'>\n",
      "RangeIndex: 16136 entries, 0 to 16135\n",
      "Data columns (total 15 columns):\n",
      " #   Column                          Non-Null Count  Dtype  \n",
      "---  ------                          --------------  -----  \n",
      " 0   Year                            16136 non-null  int64  \n",
      " 1   Month                           16136 non-null  int64  \n",
      " 2   Subcategory                     16136 non-null  object \n",
      " 3   Category                        16136 non-null  object \n",
      " 4   Model / Style Number            16136 non-null  object \n",
      " 5   Ordered Revenue                 16136 non-null  float64\n",
      " 6   Ordered Revenue - % of Total    16136 non-null  float64\n",
      " 7   Ordered Revenue - Prior Period  16136 non-null  object \n",
      " 8   Ordered Units                   16136 non-null  int64  \n",
      " 9   Subcategory (Sales Rank)        15127 non-null  float64\n",
      " 10  Glance Views                    16029 non-null  float64\n",
      " 11  Change in Glance View - MOM     16029 non-null  object \n",
      " 12  Change in GV YOY                16029 non-null  object \n",
      " 13  Conversion Rate                 11027 non-null  float64\n",
      " 14  LFO (Price)                     10732 non-null  float64\n",
      "dtypes: float64(6), int64(3), object(6)\n",
      "memory usage: 1.8+ MB\n"
     ]
    }
   ],
   "source": [
    "data.info()"
   ]
  },
  {
   "cell_type": "code",
   "execution_count": 6,
   "id": "c9638cca",
   "metadata": {},
   "outputs": [],
   "source": [
    "#data.describe().T"
   ]
  },
  {
   "cell_type": "code",
   "execution_count": null,
   "id": "40439268",
   "metadata": {},
   "outputs": [],
   "source": [
    "#Check for duplicate rows\n",
    "print(\"Duplicate counnt\", data.duplicated().sum())\n",
    "data.loc[data.duplicated(keep=False),:]"
   ]
  },
  {
   "cell_type": "code",
   "execution_count": 8,
   "id": "1bf4a01d",
   "metadata": {},
   "outputs": [],
   "source": [
    "data=data.drop_duplicates()"
   ]
  },
  {
   "cell_type": "code",
   "execution_count": 9,
   "id": "54317fd2",
   "metadata": {},
   "outputs": [
    {
     "data": {
      "text/plain": [
       "(16128, 15)"
      ]
     },
     "execution_count": 9,
     "metadata": {},
     "output_type": "execute_result"
    }
   ],
   "source": [
    "data.shape"
   ]
  },
  {
   "cell_type": "code",
   "execution_count": 10,
   "id": "12df37e2",
   "metadata": {},
   "outputs": [
    {
     "data": {
      "text/plain": [
       "Year                                  2\n",
       "Month                                12\n",
       "Subcategory                          77\n",
       "Category                             28\n",
       "Model / Style Number               1394\n",
       "Ordered Revenue                   11064\n",
       "Ordered Revenue - % of Total      11047\n",
       "Ordered Revenue - Prior Period    10831\n",
       "Ordered Units                      1668\n",
       "Subcategory (Sales Rank)           3096\n",
       "Glance Views                       3787\n",
       "Change in Glance View - MOM        7630\n",
       "Change in GV YOY                   5855\n",
       "Conversion Rate                    6719\n",
       "LFO (Price)                        3515\n",
       "dtype: int64"
      ]
     },
     "execution_count": 10,
     "metadata": {},
     "output_type": "execute_result"
    }
   ],
   "source": [
    "data.nunique()"
   ]
  },
  {
   "cell_type": "code",
   "execution_count": 11,
   "id": "c4e38cab",
   "metadata": {},
   "outputs": [
    {
     "data": {
      "text/plain": [
       "object     6\n",
       "float64    6\n",
       "int64      3\n",
       "dtype: int64"
      ]
     },
     "execution_count": 11,
     "metadata": {},
     "output_type": "execute_result"
    }
   ],
   "source": [
    "data.dtypes.value_counts()"
   ]
  },
  {
   "cell_type": "code",
   "execution_count": 12,
   "id": "28f42747",
   "metadata": {},
   "outputs": [
    {
     "data": {
      "text/plain": [
       "Index(['Subcategory (Sales Rank)', 'Glance Views',\n",
       "       'Change in Glance View - MOM', 'Change in GV YOY', 'Conversion Rate',\n",
       "       'LFO (Price)'],\n",
       "      dtype='object')"
      ]
     },
     "execution_count": 12,
     "metadata": {},
     "output_type": "execute_result"
    }
   ],
   "source": [
    "#Null value Columns\n",
    "null_cols=data.columns[data.isna().any()]\n",
    "null_cols"
   ]
  },
  {
   "cell_type": "code",
   "execution_count": 13,
   "id": "a0039871",
   "metadata": {},
   "outputs": [],
   "source": [
    "#plt.scatter(data['Subcategory (Sales Rank)'],data['Category'])"
   ]
  },
  {
   "cell_type": "code",
   "execution_count": 14,
   "id": "502fd8ca",
   "metadata": {},
   "outputs": [
    {
     "data": {
      "text/plain": [
       "Year                                 0\n",
       "Month                                0\n",
       "Subcategory                          0\n",
       "Category                             0\n",
       "Model / Style Number                 0\n",
       "Ordered Revenue                      0\n",
       "Ordered Revenue - % of Total         0\n",
       "Ordered Revenue - Prior Period       0\n",
       "Ordered Units                        0\n",
       "Subcategory (Sales Rank)          1001\n",
       "Glance Views                       107\n",
       "Change in Glance View - MOM        107\n",
       "Change in GV YOY                   107\n",
       "Conversion Rate                   5101\n",
       "LFO (Price)                       5396\n",
       "dtype: int64"
      ]
     },
     "execution_count": 14,
     "metadata": {},
     "output_type": "execute_result"
    }
   ],
   "source": [
    "data.isnull().sum()"
   ]
  },
  {
   "cell_type": "code",
   "execution_count": 15,
   "id": "f943cb93",
   "metadata": {},
   "outputs": [
    {
     "data": {
      "text/plain": [
       "Year                               0.000000\n",
       "Month                              0.000000\n",
       "Subcategory                        0.000000\n",
       "Category                           0.000000\n",
       "Model / Style Number               0.000000\n",
       "Ordered Revenue                    0.000000\n",
       "Ordered Revenue - % of Total       0.000000\n",
       "Ordered Revenue - Prior Period     0.000000\n",
       "Ordered Units                      0.000000\n",
       "Subcategory (Sales Rank)           6.206597\n",
       "Glance Views                       0.663442\n",
       "Change in Glance View - MOM        0.663442\n",
       "Change in GV YOY                   0.663442\n",
       "Conversion Rate                   31.628224\n",
       "LFO (Price)                       33.457341\n",
       "dtype: float64"
      ]
     },
     "execution_count": 15,
     "metadata": {},
     "output_type": "execute_result"
    }
   ],
   "source": [
    "data.isnull().sum()/len(data)*100"
   ]
  },
  {
   "cell_type": "code",
   "execution_count": null,
   "id": "ef8c4db5",
   "metadata": {},
   "outputs": [],
   "source": [
    "#Data Preprocessing"
   ]
  },
  {
   "cell_type": "code",
   "execution_count": 16,
   "id": "9cdd5e4b",
   "metadata": {
    "scrolled": true
   },
   "outputs": [],
   "source": [
    "#cr_null=data[data[\"Conversion Rate\"].isnull()]\n",
    "#cr_null[cr_null[\"Month\"]!=1].head()"
   ]
  },
  {
   "cell_type": "code",
   "execution_count": 17,
   "id": "b4eee52c",
   "metadata": {},
   "outputs": [],
   "source": [
    "bool=data[\"Change in Glance View - MOM\"].str.replace('\\W', '0', regex=True)"
   ]
  },
  {
   "cell_type": "code",
   "execution_count": 18,
   "id": "7623f5ea",
   "metadata": {},
   "outputs": [
    {
     "data": {
      "text/plain": [
       "NaN    11076\n",
       "0       5052\n",
       "Name: Change in Glance View - MOM, dtype: int64"
      ]
     },
     "execution_count": 18,
     "metadata": {},
     "output_type": "execute_result"
    }
   ],
   "source": [
    "bool.value_counts(dropna=False)"
   ]
  },
  {
   "cell_type": "code",
   "execution_count": 19,
   "id": "e28beb3d",
   "metadata": {},
   "outputs": [
    {
     "data": {
      "text/plain": [
       "11076"
      ]
     },
     "execution_count": 19,
     "metadata": {},
     "output_type": "execute_result"
    }
   ],
   "source": [
    "bool.isnull().sum()"
   ]
  },
  {
   "cell_type": "code",
   "execution_count": 20,
   "id": "1b748f6a",
   "metadata": {},
   "outputs": [],
   "source": [
    "#data[\"Month\"].value_counts(dropna=False)"
   ]
  },
  {
   "cell_type": "markdown",
   "id": "d1e09721",
   "metadata": {},
   "source": [
    "Indexing with Time Series Data\n"
   ]
  },
  {
   "cell_type": "code",
   "execution_count": 21,
   "id": "458790e3",
   "metadata": {},
   "outputs": [],
   "source": [
    "df=data.copy()"
   ]
  },
  {
   "cell_type": "code",
   "execution_count": 22,
   "id": "cf2073fe",
   "metadata": {},
   "outputs": [],
   "source": [
    "df[\"Date\"] = pd.to_datetime(df[\"Year\"].astype('str') + \"/\" + df[\"Month\"].astype('str'))"
   ]
  },
  {
   "cell_type": "code",
   "execution_count": 23,
   "id": "5434839a",
   "metadata": {},
   "outputs": [
    {
     "data": {
      "text/plain": [
       "1419   2021-02-01\n",
       "2597   2021-04-01\n",
       "7461   2021-09-01\n",
       "Name: Date, dtype: datetime64[ns]"
      ]
     },
     "execution_count": 23,
     "metadata": {},
     "output_type": "execute_result"
    }
   ],
   "source": [
    "df[\"Date\"].sample(3)"
   ]
  },
  {
   "cell_type": "code",
   "execution_count": 24,
   "id": "6e22c831",
   "metadata": {},
   "outputs": [
    {
     "data": {
      "text/plain": [
       "DatetimeIndex(['2021-01-01', '2021-01-01', '2021-01-01', '2021-01-01',\n",
       "               '2021-01-01', '2021-01-01', '2021-01-01', '2021-01-01',\n",
       "               '2021-01-01', '2021-01-01',\n",
       "               ...\n",
       "               '2022-06-01', '2022-06-01', '2022-06-01', '2022-06-01',\n",
       "               '2022-06-01', '2022-06-01', '2022-06-01', '2022-06-01',\n",
       "               '2022-06-01', '2022-06-01'],\n",
       "              dtype='datetime64[ns]', name='Date', length=16128, freq=None)"
      ]
     },
     "execution_count": 24,
     "metadata": {},
     "output_type": "execute_result"
    }
   ],
   "source": [
    "#Indexing with Time Series Data\n",
    "df = df.set_index('Date')\n",
    "df.index"
   ]
  },
  {
   "cell_type": "code",
   "execution_count": 25,
   "id": "f41efa4a",
   "metadata": {},
   "outputs": [
    {
     "data": {
      "text/html": [
       "<div>\n",
       "<style scoped>\n",
       "    .dataframe tbody tr th:only-of-type {\n",
       "        vertical-align: middle;\n",
       "    }\n",
       "\n",
       "    .dataframe tbody tr th {\n",
       "        vertical-align: top;\n",
       "    }\n",
       "\n",
       "    .dataframe thead th {\n",
       "        text-align: right;\n",
       "    }\n",
       "</style>\n",
       "<table border=\"1\" class=\"dataframe\">\n",
       "  <thead>\n",
       "    <tr style=\"text-align: right;\">\n",
       "      <th></th>\n",
       "      <th>Year</th>\n",
       "      <th>Month</th>\n",
       "      <th>Subcategory</th>\n",
       "      <th>Category</th>\n",
       "      <th>Model / Style Number</th>\n",
       "      <th>Ordered Revenue</th>\n",
       "      <th>Ordered Revenue - % of Total</th>\n",
       "      <th>Ordered Revenue - Prior Period</th>\n",
       "      <th>Ordered Units</th>\n",
       "      <th>Subcategory (Sales Rank)</th>\n",
       "      <th>Glance Views</th>\n",
       "      <th>Change in Glance View - MOM</th>\n",
       "      <th>Change in GV YOY</th>\n",
       "      <th>Conversion Rate</th>\n",
       "      <th>LFO (Price)</th>\n",
       "    </tr>\n",
       "    <tr>\n",
       "      <th>Date</th>\n",
       "      <th></th>\n",
       "      <th></th>\n",
       "      <th></th>\n",
       "      <th></th>\n",
       "      <th></th>\n",
       "      <th></th>\n",
       "      <th></th>\n",
       "      <th></th>\n",
       "      <th></th>\n",
       "      <th></th>\n",
       "      <th></th>\n",
       "      <th></th>\n",
       "      <th></th>\n",
       "      <th></th>\n",
       "      <th></th>\n",
       "    </tr>\n",
       "  </thead>\n",
       "  <tbody>\n",
       "    <tr>\n",
       "      <th>2021-01-01</th>\n",
       "      <td>2021</td>\n",
       "      <td>1</td>\n",
       "      <td>Subcategory 070</td>\n",
       "      <td>Category 24</td>\n",
       "      <td>BE112230056</td>\n",
       "      <td>321270.0840</td>\n",
       "      <td>0.045487</td>\n",
       "      <td>-0.052463</td>\n",
       "      <td>80022</td>\n",
       "      <td>2.0</td>\n",
       "      <td>334355.0</td>\n",
       "      <td>-0.183714</td>\n",
       "      <td>1.548302</td>\n",
       "      <td>0.100755</td>\n",
       "      <td>0.000009</td>\n",
       "    </tr>\n",
       "    <tr>\n",
       "      <th>2021-01-01</th>\n",
       "      <td>2021</td>\n",
       "      <td>1</td>\n",
       "      <td>Subcategory 014</td>\n",
       "      <td>Category 05</td>\n",
       "      <td>WIZ0003ttBK</td>\n",
       "      <td>328651.1945</td>\n",
       "      <td>0.046532</td>\n",
       "      <td>0.109727</td>\n",
       "      <td>4123</td>\n",
       "      <td>2.0</td>\n",
       "      <td>89784.0</td>\n",
       "      <td>-0.132924</td>\n",
       "      <td>—</td>\n",
       "      <td>0.029125</td>\n",
       "      <td>0.000000</td>\n",
       "    </tr>\n",
       "    <tr>\n",
       "      <th>2021-01-01</th>\n",
       "      <td>2021</td>\n",
       "      <td>1</td>\n",
       "      <td>Subcategory 070</td>\n",
       "      <td>Category 24</td>\n",
       "      <td>BP112230056</td>\n",
       "      <td>329032.4535</td>\n",
       "      <td>0.046586</td>\n",
       "      <td>0.033723</td>\n",
       "      <td>1896</td>\n",
       "      <td>5.0</td>\n",
       "      <td>103721.0</td>\n",
       "      <td>0.175122</td>\n",
       "      <td>0.725922</td>\n",
       "      <td>0.056102</td>\n",
       "      <td>0.000060</td>\n",
       "    </tr>\n",
       "  </tbody>\n",
       "</table>\n",
       "</div>"
      ],
      "text/plain": [
       "            Year  Month      Subcategory     Category Model / Style Number  \\\n",
       "Date                                                                         \n",
       "2021-01-01  2021      1  Subcategory 070  Category 24          BE112230056   \n",
       "2021-01-01  2021      1  Subcategory 014  Category 05          WIZ0003ttBK   \n",
       "2021-01-01  2021      1  Subcategory 070  Category 24          BP112230056   \n",
       "\n",
       "            Ordered Revenue  Ordered Revenue - % of Total  \\\n",
       "Date                                                        \n",
       "2021-01-01      321270.0840                      0.045487   \n",
       "2021-01-01      328651.1945                      0.046532   \n",
       "2021-01-01      329032.4535                      0.046586   \n",
       "\n",
       "           Ordered Revenue - Prior Period  Ordered Units  \\\n",
       "Date                                                       \n",
       "2021-01-01                      -0.052463          80022   \n",
       "2021-01-01                       0.109727           4123   \n",
       "2021-01-01                       0.033723           1896   \n",
       "\n",
       "            Subcategory (Sales Rank)  Glance Views  \\\n",
       "Date                                                 \n",
       "2021-01-01                       2.0      334355.0   \n",
       "2021-01-01                       2.0       89784.0   \n",
       "2021-01-01                       5.0      103721.0   \n",
       "\n",
       "           Change in Glance View - MOM Change in GV YOY  Conversion Rate  \\\n",
       "Date                                                                       \n",
       "2021-01-01                   -0.183714         1.548302         0.100755   \n",
       "2021-01-01                   -0.132924                —         0.029125   \n",
       "2021-01-01                    0.175122         0.725922         0.056102   \n",
       "\n",
       "            LFO (Price)  \n",
       "Date                     \n",
       "2021-01-01     0.000009  \n",
       "2021-01-01     0.000000  \n",
       "2021-01-01     0.000060  "
      ]
     },
     "execution_count": 25,
     "metadata": {},
     "output_type": "execute_result"
    }
   ],
   "source": [
    "df.head(3)"
   ]
  },
  {
   "cell_type": "code",
   "execution_count": null,
   "id": "d2f9bef0",
   "metadata": {},
   "outputs": [],
   "source": []
  },
  {
   "cell_type": "code",
   "execution_count": 26,
   "id": "bb4d4ee8",
   "metadata": {},
   "outputs": [],
   "source": [
    "#df['Ordered Revenue - Prior Period']=df['Ordered Revenue - Prior Period'].str.replace(r'\\D+', '0', regex=True)\n"
   ]
  },
  {
   "cell_type": "code",
   "execution_count": 27,
   "id": "ab6d09e9",
   "metadata": {},
   "outputs": [],
   "source": [
    "#df['Ordered Revenue - Prior Period']=df['Ordered Revenue - Prior Period'].fillna('0')\n",
    "#df['Ordered Revenue - Prior Period']=df['Ordered Revenue - Prior Period'].astype('float')"
   ]
  },
  {
   "cell_type": "markdown",
   "id": "f62c84e3",
   "metadata": {},
   "source": [
    "Data consists of missing/null values and special characters: These need to be taken care of before proceeding with further analysis.\n",
    "\n",
    "However, for primary analysis, I am only considering univariant time series analysis. As the required features (‘Year’, ‘Month’, ‘Order Revenue’) are free of null/ missing values moving ahead.\n"
   ]
  },
  {
   "cell_type": "markdown",
   "id": "e9ec9d3f",
   "metadata": {},
   "source": [
    "# Univariate time series"
   ]
  },
  {
   "cell_type": "code",
   "execution_count": 28,
   "id": "207bfe98",
   "metadata": {},
   "outputs": [],
   "source": [
    "# Aggregate data based on Date(month) \n",
    "\n",
    "df_new =df.groupby(['Date'], as_index=True).agg({\n",
    "                                                            \n",
    "                                                             'Year':lambda x: x.unique(),\n",
    "    \n",
    "                                                             'Month':lambda x: x.unique(),\n",
    "  \n",
    "                                                             'Category':lambda x: x.unique(),\n",
    "\n",
    "                                                             'Ordered Revenue' : lambda x: x.sum(),\n",
    "                                                                \n",
    "                                                             'Subcategory':lambda x: x.count(),\n",
    "    \n",
    "                                                             'Ordered Units': lambda x:x.sum(),\n",
    "    \n",
    "                                                             #'Ordered Revenue - Prior Period':lambda x: x.sum(),\n",
    "                                \n",
    "                                                             #'Glance Views': lambda x:x.sum()\n",
    "                                                                \n",
    "                                                              #'': lambda x:list(set(x.tolist())),\n",
    "    \n",
    "                                                              #'':lambda x:x.unique()\n",
    "                                                                 })\n",
    "\n"
   ]
  },
  {
   "cell_type": "code",
   "execution_count": 29,
   "id": "7689144b",
   "metadata": {},
   "outputs": [
    {
     "data": {
      "text/html": [
       "<div>\n",
       "<style scoped>\n",
       "    .dataframe tbody tr th:only-of-type {\n",
       "        vertical-align: middle;\n",
       "    }\n",
       "\n",
       "    .dataframe tbody tr th {\n",
       "        vertical-align: top;\n",
       "    }\n",
       "\n",
       "    .dataframe thead th {\n",
       "        text-align: right;\n",
       "    }\n",
       "</style>\n",
       "<table border=\"1\" class=\"dataframe\">\n",
       "  <thead>\n",
       "    <tr style=\"text-align: right;\">\n",
       "      <th></th>\n",
       "      <th>Year</th>\n",
       "      <th>Month</th>\n",
       "      <th>Category</th>\n",
       "      <th>Ordered Revenue</th>\n",
       "      <th>Subcategory</th>\n",
       "      <th>Ordered Units</th>\n",
       "    </tr>\n",
       "    <tr>\n",
       "      <th>Date</th>\n",
       "      <th></th>\n",
       "      <th></th>\n",
       "      <th></th>\n",
       "      <th></th>\n",
       "      <th></th>\n",
       "      <th></th>\n",
       "    </tr>\n",
       "  </thead>\n",
       "  <tbody>\n",
       "    <tr>\n",
       "      <th>2021-01-01</th>\n",
       "      <td>2021</td>\n",
       "      <td>1</td>\n",
       "      <td>[Category 24, Category 05, Category 17, Catego...</td>\n",
       "      <td>7.062916e+06</td>\n",
       "      <td>851</td>\n",
       "      <td>306683</td>\n",
       "    </tr>\n",
       "    <tr>\n",
       "      <th>2021-02-01</th>\n",
       "      <td>2021</td>\n",
       "      <td>2</td>\n",
       "      <td>[Category 24, Category 05, Category 17, Catego...</td>\n",
       "      <td>7.067403e+06</td>\n",
       "      <td>841</td>\n",
       "      <td>260541</td>\n",
       "    </tr>\n",
       "    <tr>\n",
       "      <th>2021-03-01</th>\n",
       "      <td>2021</td>\n",
       "      <td>3</td>\n",
       "      <td>[Category 24, Category 17, Category 05, Catego...</td>\n",
       "      <td>6.380075e+06</td>\n",
       "      <td>875</td>\n",
       "      <td>215011</td>\n",
       "    </tr>\n",
       "    <tr>\n",
       "      <th>2021-04-01</th>\n",
       "      <td>2021</td>\n",
       "      <td>4</td>\n",
       "      <td>[Category 24, Category 05, Category 17, Catego...</td>\n",
       "      <td>7.772300e+06</td>\n",
       "      <td>894</td>\n",
       "      <td>224396</td>\n",
       "    </tr>\n",
       "    <tr>\n",
       "      <th>2021-05-01</th>\n",
       "      <td>2021</td>\n",
       "      <td>5</td>\n",
       "      <td>[Category 24, Category 05, Category 17, Catego...</td>\n",
       "      <td>6.089733e+06</td>\n",
       "      <td>887</td>\n",
       "      <td>231296</td>\n",
       "    </tr>\n",
       "  </tbody>\n",
       "</table>\n",
       "</div>"
      ],
      "text/plain": [
       "            Year  Month                                           Category  \\\n",
       "Date                                                                         \n",
       "2021-01-01  2021      1  [Category 24, Category 05, Category 17, Catego...   \n",
       "2021-02-01  2021      2  [Category 24, Category 05, Category 17, Catego...   \n",
       "2021-03-01  2021      3  [Category 24, Category 17, Category 05, Catego...   \n",
       "2021-04-01  2021      4  [Category 24, Category 05, Category 17, Catego...   \n",
       "2021-05-01  2021      5  [Category 24, Category 05, Category 17, Catego...   \n",
       "\n",
       "            Ordered Revenue  Subcategory  Ordered Units  \n",
       "Date                                                     \n",
       "2021-01-01     7.062916e+06          851         306683  \n",
       "2021-02-01     7.067403e+06          841         260541  \n",
       "2021-03-01     6.380075e+06          875         215011  \n",
       "2021-04-01     7.772300e+06          894         224396  \n",
       "2021-05-01     6.089733e+06          887         231296  "
      ]
     },
     "execution_count": 29,
     "metadata": {},
     "output_type": "execute_result"
    }
   ],
   "source": [
    "df_new.head()"
   ]
  },
  {
   "cell_type": "code",
   "execution_count": 30,
   "id": "d6a26eb1",
   "metadata": {},
   "outputs": [],
   "source": [
    "y = df_new['Ordered Revenue']#.resample('MS').mean()\n"
   ]
  },
  {
   "cell_type": "code",
   "execution_count": 31,
   "id": "7d68700f",
   "metadata": {},
   "outputs": [
    {
     "data": {
      "text/plain": [
       "Date\n",
       "2021-08-01    8.714424e+06\n",
       "2022-03-01    7.943414e+06\n",
       "Name: Ordered Revenue, dtype: float64"
      ]
     },
     "execution_count": 31,
     "metadata": {},
     "output_type": "execute_result"
    }
   ],
   "source": [
    "y.sample(2)"
   ]
  },
  {
   "cell_type": "code",
   "execution_count": 32,
   "id": "125c5be5",
   "metadata": {},
   "outputs": [
    {
     "data": {
      "image/png": "[encoded data removed]",
      "text/plain": [
       "<Figure size 1080x432 with 1 Axes>"
      ]
     },
     "metadata": {
      "needs_background": "light"
     },
     "output_type": "display_data"
    }
   ],
   "source": [
    "#distribution of sales\n",
    "y.plot(figsize=(15, 6))\n",
    "plt.show()"
   ]
  },
  {
   "cell_type": "markdown",
   "id": "757fb7c9",
   "metadata": {},
   "source": [
    "Time series decomposition: seasonality trend and residuals"
   ]
  },
  {
   "cell_type": "code",
   "execution_count": 33,
   "id": "3e0c9bf6",
   "metadata": {
    "scrolled": false
   },
   "outputs": [
    {
     "data": {
      "image/png": "[encoded data removed]",
      "text/plain": [
       "<Figure size 1080x576 with 4 Axes>"
      ]
     },
     "metadata": {
      "needs_background": "light"
     },
     "output_type": "display_data"
    }
   ],
   "source": [
    "rcParams['figure.figsize'] = 15,8\n",
    "decomposition = sm.tsa.seasonal_decompose(y,freq=1)\n",
    "fig = decomposition.plot()\n",
    "plt.show()"
   ]
  },
  {
   "cell_type": "markdown",
   "id": "170aa12d",
   "metadata": {},
   "source": [
    "#Statistical tests to check stationarity in Time Series"
   ]
  },
  {
   "cell_type": "code",
   "execution_count": 34,
   "id": "53e48d32",
   "metadata": {},
   "outputs": [],
   "source": [
    "def adf_test(ts):\n",
    "    test_result = adfuller(ts)\n",
    "    print ('ADF Test:')\n",
    "    labels = ['ADF Statistic','p-value','No. of Lags Used','Number of Observations Used']\n",
    "\n",
    "    for value,label in zip(test_result,labels):\n",
    "        print (label+':'+str(value))\n",
    "    if test_result [1] <= 0.05:\n",
    "        print (\"strong evidence against the null hypothesis(Ho), reject the null hypothesis and data is stationary\")\n",
    "    else:\n",
    "        print (\"weak evidence against null hypothesis, thereby data is non-stationary \")"
   ]
  },
  {
   "cell_type": "code",
   "execution_count": 35,
   "id": "4b92653a",
   "metadata": {
    "scrolled": true
   },
   "outputs": [
    {
     "name": "stdout",
     "output_type": "stream",
     "text": [
      "ADF Test:\n",
      "ADF Statistic:-2.4302004937317387\n",
      "p-value:0.13339331225123296\n",
      "No. of Lags Used:7\n",
      "Number of Observations Used:10\n",
      "weak evidence against null hypothesis, thereby data is non-stationary \n"
     ]
    }
   ],
   "source": [
    "adf_test(y)"
   ]
  },
  {
   "cell_type": "markdown",
   "id": "695fbad9",
   "metadata": {},
   "source": [
    "The data is non-stationary , need to apply differencing to make the data stationary."
   ]
  },
  {
   "cell_type": "markdown",
   "id": "5a2edf36",
   "metadata": {},
   "source": [
    "### Differencing"
   ]
  },
  {
   "cell_type": "code",
   "execution_count": 36,
   "id": "d4bfd881",
   "metadata": {},
   "outputs": [],
   "source": [
    "df_new['Ordered Revenue First Diff'] =df_new['Ordered Revenue']-df_new['Ordered Revenue'].shift(1)\n"
   ]
  },
  {
   "cell_type": "code",
   "execution_count": 37,
   "id": "7937b7e2",
   "metadata": {},
   "outputs": [
    {
     "name": "stdout",
     "output_type": "stream",
     "text": [
      "ADF Test:\n",
      "ADF Statistic:-5.768996560937113\n",
      "p-value:5.447731881364701e-07\n",
      "No. of Lags Used:0\n",
      "Number of Observations Used:16\n",
      "strong evidence against the null hypothesis(Ho), reject the null hypothesis and data is stationary\n"
     ]
    }
   ],
   "source": [
    "# Checking stationarity in Time Series after differencing\n",
    "adf_test(df_new['Ordered Revenue First Diff'].dropna())"
   ]
  },
  {
   "cell_type": "code",
   "execution_count": 38,
   "id": "e8116567",
   "metadata": {},
   "outputs": [
    {
     "data": {
      "image/png": "[encoded data removed]",
      "text/plain": [
       "<Figure size 1080x432 with 1 Axes>"
      ]
     },
     "metadata": {
      "needs_background": "light"
     },
     "output_type": "display_data"
    }
   ],
   "source": [
    "df_new['Ordered Revenue First Diff'].plot(figsize=(15, 6))\n",
    "plt.show()"
   ]
  },
  {
   "cell_type": "code",
   "execution_count": 39,
   "id": "a5058327",
   "metadata": {
    "scrolled": false
   },
   "outputs": [
    {
     "data": {
      "image/png": "[encoded data removed]",
      "text/plain": [
       "<Figure size 1080x576 with 1 Axes>"
      ]
     },
     "metadata": {
      "needs_background": "light"
     },
     "output_type": "display_data"
    },
    {
     "data": {
      "image/png": "[encoded data removed]",
      "text/plain": [
       "<Figure size 1080x576 with 1 Axes>"
      ]
     },
     "metadata": {
      "needs_background": "light"
     },
     "output_type": "display_data"
    }
   ],
   "source": [
    "fig_first = plot_acf(df_new['Ordered Revenue First Diff'].dropna())\n",
    "\n",
    "first_plot=plot_pacf(df_new['Ordered Revenue First Diff'].dropna(), lags=7)\n",
    "\n",
    "#Can only compute partial correlations for lags up to 50% of the sample size. The requested nlags 13 must be < 8."
   ]
  },
  {
   "cell_type": "raw",
   "id": "c3e34fc3",
   "metadata": {},
   "source": [
    "# For non-seasonal data\n",
    "#p=1, d=1, q=0 or 1\n",
    "\n",
    "Autocorrelation and Partial Autocorrelation:\n",
    "\n",
    "Identification of an AR model is often best done with the PACF.\n",
    "\n",
    "For an AR model, the theoretical PACF “shuts off” past the order of the model. The phrase “shuts off” means that in theory \n",
    "the partial autocorrelations are equal to 0 beyond that point. \n",
    "\n",
    "For an MA model, the theoretical PACF does not shut off, but instead tapers toward 0 in some manner. A clearer pattern for an MA model is in the ACF. The ACF will have non-zero autocorrelations only at lags involved in the model.\n",
    "\n",
    "p,d,q p AR model lags d differencing q MA lags\n",
    "\n",
    "ARIMA models is not a solution for the available data"
   ]
  },
  {
   "cell_type": "code",
   "execution_count": 40,
   "id": "b69b5f79",
   "metadata": {},
   "outputs": [
    {
     "data": {
      "text/plain": [
       "(18, 7)"
      ]
     },
     "execution_count": 40,
     "metadata": {},
     "output_type": "execute_result"
    }
   ],
   "source": [
    "df_new.shape"
   ]
  },
  {
   "cell_type": "markdown",
   "id": "b65ef3c9",
   "metadata": {},
   "source": [
    "# Autoregressive Integrated Moving-Average"
   ]
  },
  {
   "cell_type": "markdown",
   "id": "db1dc999",
   "metadata": {},
   "source": [
    "## Train / Test Split"
   ]
  },
  {
   "cell_type": "code",
   "execution_count": 41,
   "id": "15f2e391",
   "metadata": {},
   "outputs": [],
   "source": [
    "train_data = df_new.iloc[0:14]\n",
    "test_data = df_new.iloc[14:]"
   ]
  },
  {
   "cell_type": "code",
   "execution_count": 42,
   "id": "aabc682e",
   "metadata": {},
   "outputs": [
    {
     "data": {
      "text/html": [
       "<div>\n",
       "<style scoped>\n",
       "    .dataframe tbody tr th:only-of-type {\n",
       "        vertical-align: middle;\n",
       "    }\n",
       "\n",
       "    .dataframe tbody tr th {\n",
       "        vertical-align: top;\n",
       "    }\n",
       "\n",
       "    .dataframe thead th {\n",
       "        text-align: right;\n",
       "    }\n",
       "</style>\n",
       "<table border=\"1\" class=\"dataframe\">\n",
       "  <thead>\n",
       "    <tr style=\"text-align: right;\">\n",
       "      <th></th>\n",
       "      <th>Year</th>\n",
       "      <th>Month</th>\n",
       "      <th>Category</th>\n",
       "      <th>Ordered Revenue</th>\n",
       "      <th>Subcategory</th>\n",
       "      <th>Ordered Units</th>\n",
       "      <th>Ordered Revenue First Diff</th>\n",
       "    </tr>\n",
       "    <tr>\n",
       "      <th>Date</th>\n",
       "      <th></th>\n",
       "      <th></th>\n",
       "      <th></th>\n",
       "      <th></th>\n",
       "      <th></th>\n",
       "      <th></th>\n",
       "      <th></th>\n",
       "    </tr>\n",
       "  </thead>\n",
       "  <tbody>\n",
       "    <tr>\n",
       "      <th>2022-01-01</th>\n",
       "      <td>2022</td>\n",
       "      <td>1</td>\n",
       "      <td>[Category 24, Category 05, Category 13, Catego...</td>\n",
       "      <td>8.487560e+06</td>\n",
       "      <td>897</td>\n",
       "      <td>360801</td>\n",
       "      <td>-8.508925e+05</td>\n",
       "    </tr>\n",
       "    <tr>\n",
       "      <th>2022-02-01</th>\n",
       "      <td>2022</td>\n",
       "      <td>2</td>\n",
       "      <td>[Category 24, Category 05, Category 17, Catego...</td>\n",
       "      <td>7.067253e+06</td>\n",
       "      <td>885</td>\n",
       "      <td>252815</td>\n",
       "      <td>-1.420307e+06</td>\n",
       "    </tr>\n",
       "  </tbody>\n",
       "</table>\n",
       "</div>"
      ],
      "text/plain": [
       "            Year  Month                                           Category  \\\n",
       "Date                                                                         \n",
       "2022-01-01  2022      1  [Category 24, Category 05, Category 13, Catego...   \n",
       "2022-02-01  2022      2  [Category 24, Category 05, Category 17, Catego...   \n",
       "\n",
       "            Ordered Revenue  Subcategory  Ordered Units  \\\n",
       "Date                                                      \n",
       "2022-01-01     8.487560e+06          897         360801   \n",
       "2022-02-01     7.067253e+06          885         252815   \n",
       "\n",
       "            Ordered Revenue First Diff  \n",
       "Date                                    \n",
       "2022-01-01               -8.508925e+05  \n",
       "2022-02-01               -1.420307e+06  "
      ]
     },
     "execution_count": 42,
     "metadata": {},
     "output_type": "execute_result"
    }
   ],
   "source": [
    "train_data.tail(2)\n"
   ]
  },
  {
   "cell_type": "code",
   "execution_count": 43,
   "id": "95544a00",
   "metadata": {},
   "outputs": [],
   "source": [
    "import warnings\n",
    "warnings.filterwarnings('ignore')"
   ]
  },
  {
   "cell_type": "code",
   "execution_count": 44,
   "id": "08103631",
   "metadata": {},
   "outputs": [],
   "source": [
    "model=ARIMA(train_data['Ordered Revenue'],order=(1,1,0))\n",
    "model_fit=model.fit()"
   ]
  },
  {
   "cell_type": "code",
   "execution_count": 45,
   "id": "79f4c9b0",
   "metadata": {},
   "outputs": [
    {
     "name": "stdout",
     "output_type": "stream",
     "text": [
      "===========================================================================================\n",
      "                              coef    std err          z      P>|z|      [0.025      0.975]\n",
      "-------------------------------------------------------------------------------------------\n",
      "const                     333.5639   6.07e+05      0.001      1.000   -1.19e+06    1.19e+06\n",
      "ar.L1.D.Ordered Revenue    -0.3773      0.244     -1.545      0.122      -0.856       0.101\n",
      "===========================================================================================\n"
     ]
    }
   ],
   "source": [
    "print(model_fit.summary().tables[1])"
   ]
  },
  {
   "cell_type": "code",
   "execution_count": 46,
   "id": "2723889e",
   "metadata": {},
   "outputs": [
    {
     "data": {
      "text/plain": [
       "<AxesSubplot:xlabel='Date'>"
      ]
     },
     "execution_count": 46,
     "metadata": {},
     "output_type": "execute_result"
    },
    {
     "data": {
      "image/png": "[encoded data removed]",
      "text/plain": [
       "<Figure size 864x576 with 1 Axes>"
      ]
     },
     "metadata": {
      "needs_background": "light"
     },
     "output_type": "display_data"
    }
   ],
   "source": [
    "start=len(train_data)\n",
    "end=len(train_data)+len(test_data)-1\n",
    "df_new['forecast']=model_fit.predict(start=start,end=end,dynamic=True)\n",
    "df_new[['Ordered Revenue','forecast']].plot(figsize=(12,8))"
   ]
  },
  {
   "cell_type": "code",
   "execution_count": 47,
   "id": "817fa379",
   "metadata": {},
   "outputs": [
    {
     "data": {
      "text/plain": [
       " 536319.345893    1\n",
       "-201885.562110    1\n",
       " 76627.705003     1\n",
       "-28451.032780     1\n",
       "Name: forecast, dtype: int64"
      ]
     },
     "execution_count": 47,
     "metadata": {},
     "output_type": "execute_result"
    }
   ],
   "source": [
    "df_new['forecast'].value_counts()"
   ]
  },
  {
   "cell_type": "markdown",
   "id": "64fc1c14",
   "metadata": {
    "scrolled": true
   },
   "source": [
    "#SARIMA Trail\n",
    "model_sar=sm.tsa.statespace.SARIMAX(train_data['Ordered Revenue'],order=(1, 1, 0),seasonal_order=(1,0,0,12))\n",
    "results=model_sar.fit()"
   ]
  },
  {
   "cell_type": "markdown",
   "id": "a8666836",
   "metadata": {},
   "source": [
    "print(results.summary().tables[1])"
   ]
  },
  {
   "cell_type": "markdown",
   "id": "22efd5fa",
   "metadata": {},
   "source": [
    "results.plot_diagnostics(figsize=(16, 8))\n",
    "plt.show()\n",
    "df_new['forecast2']=results.predict(start=start-4,end=end,dynamic=True)\n",
    "df_new[['Ordered Revenue','forecast2']].plot(figsize=(12,8))\n",
    "from sklearn.metrics import mean_squared_error\n",
    "from math import sqrt\n",
    "test_data['Ordered Revenue'].mean()\n",
    "rmse=sqrt(mean_squared_error(df_new['forecast2'][14:],test_data['Ordered Revenue']))\n",
    "print(rmse)\n",
    "\n",
    "=========================="
   ]
  },
  {
   "cell_type": "markdown",
   "id": "9c37a986",
   "metadata": {},
   "source": [
    "ARIMA is not suitable for data - XGB regressor is one of the alternative choice"
   ]
  },
  {
   "cell_type": "code",
   "execution_count": null,
   "id": "b112e83a",
   "metadata": {},
   "outputs": [],
   "source": []
  },
  {
   "cell_type": "code",
   "execution_count": 48,
   "id": "8c5721a2",
   "metadata": {},
   "outputs": [],
   "source": [
    "# Checking data and dropping unnecessary columns"
   ]
  },
  {
   "cell_type": "code",
   "execution_count": 49,
   "id": "ecad3760",
   "metadata": {},
   "outputs": [],
   "source": [
    "df_new=df_new.drop(['forecast','Ordered Revenue First Diff'],axis=1)\n",
    "df_new[\"Quarter\"]=df_new.index.quarter # for better prediction "
   ]
  },
  {
   "cell_type": "code",
   "execution_count": 50,
   "id": "7a756a5e",
   "metadata": {},
   "outputs": [
    {
     "data": {
      "text/html": [
       "<div>\n",
       "<style scoped>\n",
       "    .dataframe tbody tr th:only-of-type {\n",
       "        vertical-align: middle;\n",
       "    }\n",
       "\n",
       "    .dataframe tbody tr th {\n",
       "        vertical-align: top;\n",
       "    }\n",
       "\n",
       "    .dataframe thead th {\n",
       "        text-align: right;\n",
       "    }\n",
       "</style>\n",
       "<table border=\"1\" class=\"dataframe\">\n",
       "  <thead>\n",
       "    <tr style=\"text-align: right;\">\n",
       "      <th></th>\n",
       "      <th>Year</th>\n",
       "      <th>Month</th>\n",
       "      <th>Category</th>\n",
       "      <th>Ordered Revenue</th>\n",
       "      <th>Subcategory</th>\n",
       "      <th>Ordered Units</th>\n",
       "      <th>Quarter</th>\n",
       "    </tr>\n",
       "    <tr>\n",
       "      <th>Date</th>\n",
       "      <th></th>\n",
       "      <th></th>\n",
       "      <th></th>\n",
       "      <th></th>\n",
       "      <th></th>\n",
       "      <th></th>\n",
       "      <th></th>\n",
       "    </tr>\n",
       "  </thead>\n",
       "  <tbody>\n",
       "    <tr>\n",
       "      <th>2021-03-01</th>\n",
       "      <td>2021</td>\n",
       "      <td>3</td>\n",
       "      <td>[Category 24, Category 17, Category 05, Catego...</td>\n",
       "      <td>6.380075e+06</td>\n",
       "      <td>875</td>\n",
       "      <td>215011</td>\n",
       "      <td>1</td>\n",
       "    </tr>\n",
       "    <tr>\n",
       "      <th>2022-06-01</th>\n",
       "      <td>2022</td>\n",
       "      <td>6</td>\n",
       "      <td>[Category 24, Category 05, Category 17, Catego...</td>\n",
       "      <td>8.106498e+06</td>\n",
       "      <td>918</td>\n",
       "      <td>313255</td>\n",
       "      <td>2</td>\n",
       "    </tr>\n",
       "  </tbody>\n",
       "</table>\n",
       "</div>"
      ],
      "text/plain": [
       "            Year  Month                                           Category  \\\n",
       "Date                                                                         \n",
       "2021-03-01  2021      3  [Category 24, Category 17, Category 05, Catego...   \n",
       "2022-06-01  2022      6  [Category 24, Category 05, Category 17, Catego...   \n",
       "\n",
       "            Ordered Revenue  Subcategory  Ordered Units  Quarter  \n",
       "Date                                                              \n",
       "2021-03-01     6.380075e+06          875         215011        1  \n",
       "2022-06-01     8.106498e+06          918         313255        2  "
      ]
     },
     "execution_count": 50,
     "metadata": {},
     "output_type": "execute_result"
    }
   ],
   "source": [
    "df_new.sample(2)"
   ]
  },
  {
   "cell_type": "code",
   "execution_count": 51,
   "id": "a29a089e",
   "metadata": {},
   "outputs": [
    {
     "data": {
      "text/plain": [
       "Year               0\n",
       "Month              0\n",
       "Category           0\n",
       "Ordered Revenue    0\n",
       "Subcategory        0\n",
       "Ordered Units      0\n",
       "Quarter            0\n",
       "dtype: int64"
      ]
     },
     "execution_count": 51,
     "metadata": {},
     "output_type": "execute_result"
    }
   ],
   "source": [
    "df_new.isnull().sum()"
   ]
  },
  {
   "cell_type": "code",
   "execution_count": 52,
   "id": "6349140f",
   "metadata": {},
   "outputs": [],
   "source": [
    "train_data = df_new.iloc[0:14]\n",
    "test_data = df_new.iloc[14:]"
   ]
  },
  {
   "cell_type": "code",
   "execution_count": 53,
   "id": "16ba1bfc",
   "metadata": {},
   "outputs": [
    {
     "data": {
      "image/png": "[encoded data removed]",
      "text/plain": [
       "<Figure size 1080x360 with 1 Axes>"
      ]
     },
     "metadata": {
      "needs_background": "light"
     },
     "output_type": "display_data"
    }
   ],
   "source": [
    "#series plot \n",
    "fig, ax = plt.subplots(figsize=(15, 5))\n",
    "train_data['Ordered Revenue'].plot(ax=ax, label='Training Set', title='Data Train/Test Split')\n",
    "test_data['Ordered Revenue'].plot(ax=ax, label='Test Set')\n",
    "ax.axvline('01-01-2021', color='black', ls='--')\n",
    "ax.legend(['Training Set', 'Test Set'])\n",
    "plt.show()"
   ]
  },
  {
   "cell_type": "markdown",
   "id": "4f797a74",
   "metadata": {},
   "source": [
    "# XGBoost Regressor"
   ]
  },
  {
   "cell_type": "code",
   "execution_count": 54,
   "id": "90262808",
   "metadata": {},
   "outputs": [],
   "source": [
    "#X_train, y_train, X_test, y_test for model training \n",
    "\n",
    "X_train = train_data[[\"Year\",\"Quarter\",\"Month\"]]\n",
    "y_train = train_data['Ordered Revenue']\n",
    "\n",
    "X_test = test_data[[\"Year\",\"Quarter\",\"Month\"]]\n",
    "y_test = test_data['Ordered Revenue']"
   ]
  },
  {
   "cell_type": "code",
   "execution_count": 55,
   "id": "bad82faa",
   "metadata": {},
   "outputs": [
    {
     "name": "stdout",
     "output_type": "stream",
     "text": [
      "[0]\tvalidation_0-mae:8104588.50000\tvalidation_1-mae:7757836.00000\n",
      "[50]\tvalidation_0-mae:5071174.50000\tvalidation_1-mae:4724421.00000\n",
      "[100]\tvalidation_0-mae:3283772.25000\tvalidation_1-mae:3076695.00000\n",
      "[150]\tvalidation_0-mae:2187698.50000\tvalidation_1-mae:2096825.62500\n",
      "[200]\tvalidation_0-mae:1525186.62500\tvalidation_1-mae:1537753.87500\n",
      "[250]\tvalidation_0-mae:1138883.12500\tvalidation_1-mae:1302157.87500\n",
      "[300]\tvalidation_0-mae:862589.43750\tvalidation_1-mae:1101805.62500\n",
      "[350]\tvalidation_0-mae:677321.50000\tvalidation_1-mae:944089.37500\n",
      "[400]\tvalidation_0-mae:580886.81250\tvalidation_1-mae:821123.87500\n",
      "[450]\tvalidation_0-mae:508085.59375\tvalidation_1-mae:723984.37500\n",
      "[500]\tvalidation_0-mae:449193.93750\tvalidation_1-mae:656927.50000\n",
      "[550]\tvalidation_0-mae:391882.46875\tvalidation_1-mae:652214.50000\n",
      "[560]\tvalidation_0-mae:381559.43750\tvalidation_1-mae:652348.00000\n"
     ]
    },
    {
     "data": {
      "text/plain": [
       "XGBRegressor(base_score=0.5, booster='gbtree', colsample_bylevel=1,\n",
       "             colsample_bynode=1, colsample_bytree=1, enable_categorical=False,\n",
       "             gamma=0, gpu_id=-1, importance_type=None,\n",
       "             interaction_constraints='', learning_rate=0.01, max_delta_step=0,\n",
       "             max_depth=3, min_child_weight=1, missing=nan,\n",
       "             monotone_constraints='()', n_estimators=1000, n_jobs=8,\n",
       "             num_parallel_tree=1, predictor='auto', random_state=0, reg_alpha=0,\n",
       "             reg_lambda=1, scale_pos_weight=1, subsample=1, tree_method='exact',\n",
       "             validate_parameters=1, verbosity=None)"
      ]
     },
     "execution_count": 55,
     "metadata": {},
     "output_type": "execute_result"
    }
   ],
   "source": [
    "reg = xgb.XGBRegressor(base_score=0.5, booster='gbtree',    \n",
    "                       n_estimators=1000,\n",
    "                       max_depth=3,\n",
    "                       learning_rate=0.01)\n",
    "\n",
    "reg.fit(X_train, y_train,\n",
    "        eval_set=[(X_train, y_train), (X_test, y_test)],\n",
    "        early_stopping_rounds=50,\n",
    "        verbose=50,eval_metric='mae')"
   ]
  },
  {
   "cell_type": "markdown",
   "id": "4124b902",
   "metadata": {},
   "source": [
    "fi = pd.DataFrame(data=reg.feature_importances_,\n",
    "             index=reg.feature_names_in_,\n",
    "             columns=['importance'])\n",
    "fi.sort_values('importance').plot(kind='barh', title='Feature Importance')\n",
    "plt.show()"
   ]
  },
  {
   "cell_type": "code",
   "execution_count": 56,
   "id": "544dc9c9",
   "metadata": {},
   "outputs": [],
   "source": [
    "#\n",
    "test_data['prediction'] = reg.predict(X_test)\n",
    "df_new = df_new.merge(test_data[['prediction']], how='left', left_index=True, right_index=True)\n"
   ]
  },
  {
   "cell_type": "code",
   "execution_count": 57,
   "id": "98e3dfef",
   "metadata": {},
   "outputs": [
    {
     "data": {
      "text/plain": [
       "Date\n",
       "2021-01-01          NaN\n",
       "2021-02-01          NaN\n",
       "2021-03-01          NaN\n",
       "2021-04-01          NaN\n",
       "2021-05-01          NaN\n",
       "2021-06-01          NaN\n",
       "2021-07-01          NaN\n",
       "2021-08-01          NaN\n",
       "2021-09-01          NaN\n",
       "2021-10-01          NaN\n",
       "2021-11-01          NaN\n",
       "2021-12-01          NaN\n",
       "2022-01-01          NaN\n",
       "2022-02-01          NaN\n",
       "2022-03-01    7262961.5\n",
       "2022-04-01    7439481.0\n",
       "2022-05-01    6836082.0\n",
       "2022-06-01    7195950.0\n",
       "Name: prediction, dtype: float32"
      ]
     },
     "execution_count": 57,
     "metadata": {},
     "output_type": "execute_result"
    }
   ],
   "source": [
    "df_new.prediction\n"
   ]
  },
  {
   "cell_type": "code",
   "execution_count": 58,
   "id": "e8c54e5f",
   "metadata": {},
   "outputs": [
    {
     "data": {
      "image/png": "[encoded data removed]",
      "text/plain": [
       "<Figure size 1080x360 with 1 Axes>"
      ]
     },
     "metadata": {
      "needs_background": "light"
     },
     "output_type": "display_data"
    }
   ],
   "source": [
    "#prediction plot\n",
    "ax = df_new.loc[(df_new.index > '2020-12-01') & (df_new.index < '2022-07-01')]['Ordered Revenue'] \\\n",
    "    .plot(figsize=(15, 5), title='Overall Sales  per Month')\n",
    "df_new.loc[(df_new.index > '2020-12-01') & (df_new.index < '2022-07-01')]['prediction'] \\\n",
    "    .plot()\n",
    "plt.legend(['Original','Prediction'])\n",
    "plt.show()"
   ]
  },
  {
   "cell_type": "code",
   "execution_count": 59,
   "id": "47c77f29",
   "metadata": {},
   "outputs": [
    {
     "name": "stdout",
     "output_type": "stream",
     "text": [
      "RMSE Score on Test set: 681291.79\n"
     ]
    }
   ],
   "source": [
    "#score\n",
    "score = np.sqrt(mean_squared_error(test_data['Ordered Revenue'], test_data['prediction']))\n",
    "print(f'RMSE Score on Test set: {score:0.2f}')"
   ]
  },
  {
   "cell_type": "code",
   "execution_count": 60,
   "id": "6ee75ad8",
   "metadata": {},
   "outputs": [
    {
     "data": {
      "text/plain": [
       "date\n",
       "2022-06-01    910548.393171\n",
       "2022-03-01    680452.504708\n",
       "2022-04-01    668685.311029\n",
       "2022-05-01    342607.620775\n",
       "Name: error, dtype: float64"
      ]
     },
     "execution_count": 60,
     "metadata": {},
     "output_type": "execute_result"
    }
   ],
   "source": [
    "#Error calculation\n",
    "test_data['error'] = np.abs(test_data['Ordered Revenue'] - test_data['prediction'])\n",
    "test_data['date'] = test_data.index.date\n",
    "test_data.groupby(['date'])['error'].mean().sort_values(ascending=False).head(10)"
   ]
  },
  {
   "cell_type": "code",
   "execution_count": 61,
   "id": "c14e2ad9",
   "metadata": {},
   "outputs": [],
   "source": [
    "#New data frame for forecast\n",
    "from pandas.tseries.offsets import DateOffset\n",
    "future_dates=[df_new.index[-1]+ DateOffset(months=x)for x in range(0,13)]"
   ]
  },
  {
   "cell_type": "code",
   "execution_count": 62,
   "id": "ae5b20f7",
   "metadata": {},
   "outputs": [],
   "source": [
    "xgb_df=pd.DataFrame(index=future_dates[1:],columns=df_new.columns)"
   ]
  },
  {
   "cell_type": "code",
   "execution_count": 63,
   "id": "05235afe",
   "metadata": {},
   "outputs": [],
   "source": [
    "df_forc=pd.concat([df_new,xgb_df])"
   ]
  },
  {
   "cell_type": "code",
   "execution_count": 64,
   "id": "d7df5f2f",
   "metadata": {},
   "outputs": [
    {
     "data": {
      "text/html": [
       "<div>\n",
       "<style scoped>\n",
       "    .dataframe tbody tr th:only-of-type {\n",
       "        vertical-align: middle;\n",
       "    }\n",
       "\n",
       "    .dataframe tbody tr th {\n",
       "        vertical-align: top;\n",
       "    }\n",
       "\n",
       "    .dataframe thead th {\n",
       "        text-align: right;\n",
       "    }\n",
       "</style>\n",
       "<table border=\"1\" class=\"dataframe\">\n",
       "  <thead>\n",
       "    <tr style=\"text-align: right;\">\n",
       "      <th></th>\n",
       "      <th>Year</th>\n",
       "      <th>Month</th>\n",
       "      <th>Category</th>\n",
       "      <th>Ordered Revenue</th>\n",
       "      <th>Subcategory</th>\n",
       "      <th>Ordered Units</th>\n",
       "      <th>Quarter</th>\n",
       "      <th>prediction</th>\n",
       "    </tr>\n",
       "  </thead>\n",
       "  <tbody>\n",
       "    <tr>\n",
       "      <th>2023-05-01</th>\n",
       "      <td>NaN</td>\n",
       "      <td>NaN</td>\n",
       "      <td>NaN</td>\n",
       "      <td>NaN</td>\n",
       "      <td>NaN</td>\n",
       "      <td>NaN</td>\n",
       "      <td>NaN</td>\n",
       "      <td>NaN</td>\n",
       "    </tr>\n",
       "    <tr>\n",
       "      <th>2023-06-01</th>\n",
       "      <td>NaN</td>\n",
       "      <td>NaN</td>\n",
       "      <td>NaN</td>\n",
       "      <td>NaN</td>\n",
       "      <td>NaN</td>\n",
       "      <td>NaN</td>\n",
       "      <td>NaN</td>\n",
       "      <td>NaN</td>\n",
       "    </tr>\n",
       "  </tbody>\n",
       "</table>\n",
       "</div>"
      ],
      "text/plain": [
       "           Year Month Category  Ordered Revenue Subcategory Ordered Units  \\\n",
       "2023-05-01  NaN   NaN      NaN              NaN         NaN           NaN   \n",
       "2023-06-01  NaN   NaN      NaN              NaN         NaN           NaN   \n",
       "\n",
       "           Quarter  prediction  \n",
       "2023-05-01     NaN         NaN  \n",
       "2023-06-01     NaN         NaN  "
      ]
     },
     "execution_count": 64,
     "metadata": {},
     "output_type": "execute_result"
    }
   ],
   "source": [
    "df_forc.tail(2)"
   ]
  },
  {
   "cell_type": "code",
   "execution_count": 65,
   "id": "08a14e97",
   "metadata": {},
   "outputs": [],
   "source": [
    "#Populating new DF \n",
    "df_forc['Year']=df_forc.index.year\n",
    "df_forc['Month']=df_forc.index.month\n",
    "df_forc[\"Quarter\"]=df_forc.index.quarter"
   ]
  },
  {
   "cell_type": "code",
   "execution_count": 66,
   "id": "a76e6f4f",
   "metadata": {},
   "outputs": [],
   "source": [
    "#predict :next 12 months of overall sales using time-series analysis \n",
    "\n",
    "df_forc['prediction_forc'] = reg.predict(df_forc[['Year',\"Quarter\",'Month']])\n",
    "#df_new = df_new.merge(test_data[['prediction']], how='left', left_index=True, right_index=True)"
   ]
  },
  {
   "cell_type": "code",
   "execution_count": 67,
   "id": "372032ed",
   "metadata": {},
   "outputs": [
    {
     "data": {
      "text/html": [
       "<div>\n",
       "<style scoped>\n",
       "    .dataframe tbody tr th:only-of-type {\n",
       "        vertical-align: middle;\n",
       "    }\n",
       "\n",
       "    .dataframe tbody tr th {\n",
       "        vertical-align: top;\n",
       "    }\n",
       "\n",
       "    .dataframe thead th {\n",
       "        text-align: right;\n",
       "    }\n",
       "</style>\n",
       "<table border=\"1\" class=\"dataframe\">\n",
       "  <thead>\n",
       "    <tr style=\"text-align: right;\">\n",
       "      <th></th>\n",
       "      <th>Year</th>\n",
       "      <th>Month</th>\n",
       "      <th>Category</th>\n",
       "      <th>Ordered Revenue</th>\n",
       "      <th>Subcategory</th>\n",
       "      <th>Ordered Units</th>\n",
       "      <th>Quarter</th>\n",
       "      <th>prediction</th>\n",
       "      <th>prediction_forc</th>\n",
       "    </tr>\n",
       "  </thead>\n",
       "  <tbody>\n",
       "    <tr>\n",
       "      <th>2021-01-01</th>\n",
       "      <td>2021</td>\n",
       "      <td>1</td>\n",
       "      <td>[Category 24, Category 05, Category 17, Catego...</td>\n",
       "      <td>7.062916e+06</td>\n",
       "      <td>851</td>\n",
       "      <td>306683</td>\n",
       "      <td>1</td>\n",
       "      <td>NaN</td>\n",
       "      <td>7270814.0</td>\n",
       "    </tr>\n",
       "    <tr>\n",
       "      <th>2021-02-01</th>\n",
       "      <td>2021</td>\n",
       "      <td>2</td>\n",
       "      <td>[Category 24, Category 05, Category 17, Catego...</td>\n",
       "      <td>7.067403e+06</td>\n",
       "      <td>841</td>\n",
       "      <td>260541</td>\n",
       "      <td>1</td>\n",
       "      <td>NaN</td>\n",
       "      <td>6884217.0</td>\n",
       "    </tr>\n",
       "  </tbody>\n",
       "</table>\n",
       "</div>"
      ],
      "text/plain": [
       "            Year  Month                                           Category  \\\n",
       "2021-01-01  2021      1  [Category 24, Category 05, Category 17, Catego...   \n",
       "2021-02-01  2021      2  [Category 24, Category 05, Category 17, Catego...   \n",
       "\n",
       "            Ordered Revenue Subcategory Ordered Units  Quarter  prediction  \\\n",
       "2021-01-01     7.062916e+06         851        306683        1         NaN   \n",
       "2021-02-01     7.067403e+06         841        260541        1         NaN   \n",
       "\n",
       "            prediction_forc  \n",
       "2021-01-01        7270814.0  \n",
       "2021-02-01        6884217.0  "
      ]
     },
     "execution_count": 67,
     "metadata": {},
     "output_type": "execute_result"
    }
   ],
   "source": [
    "df_forc.head(2)"
   ]
  },
  {
   "cell_type": "code",
   "execution_count": 68,
   "id": "7c34aab6",
   "metadata": {},
   "outputs": [
    {
     "data": {
      "image/png": "[encoded data removed]",
      "text/plain": [
       "<Figure size 1080x360 with 1 Axes>"
      ]
     },
     "metadata": {
      "needs_background": "light"
     },
     "output_type": "display_data"
    }
   ],
   "source": [
    "#Forecasting :next 12 months of overall sales \n",
    "ax = df_forc[['Ordered Revenue']].plot(figsize=(15, 5))\n",
    "df_forc['prediction_forc'].plot(ax=ax)\n",
    "plt.legend(['Original', 'Predictions & Forecast'])\n",
    "ax.set_title('Overall Sales Prediction/Forecast')\n",
    "plt.show()"
   ]
  },
  {
   "cell_type": "code",
   "execution_count": null,
   "id": "9300ae65",
   "metadata": {},
   "outputs": [],
   "source": []
  }
 ],
 "metadata": {
  "kernelspec": {
   "display_name": "Python 3 (ipykernel)",
   "language": "python",
   "name": "python3"
  },
  "language_info": {
   "codemirror_mode": {
    "name": "ipython",
    "version": 3
   },
   "file_extension": ".py",
   "mimetype": "text/x-python",
   "name": "python",
   "nbconvert_exporter": "python",
   "pygments_lexer": "ipython3",
   "version": "3.9.7"
  }
 },
 "nbformat": 4,
 "nbformat_minor": 5
}
